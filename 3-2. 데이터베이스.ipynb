{
 "cells": [
  {
   "cell_type": "code",
   "execution_count": 1,
   "metadata": {},
   "outputs": [
    {
     "name": "stdout",
     "output_type": "stream",
     "text": [
      "(1, 'Apple', 800)\n",
      "(2, 'Orange', 780)\n",
      "(3, 'Banana', 430)\n"
     ]
    }
   ],
   "source": [
    "#test.sqlite파일 DB에 사과, 오렌지, 바나나의 이름과 가격을 넣고 추출\n",
    "\n",
    "import sqlite3\n",
    "\n",
    "#sqlite 데이터베이스 연결하기\n",
    "dbpath=\"test.sqlite\"\n",
    "conn=sqlite3.connect(dbpath)\n",
    "\n",
    "#테이블을 생성하고 데이터 넣기\n",
    "cur=conn.cursor() #데이터베이스 조작커서 추출\n",
    "cur.executescript(\"\"\"\n",
    "/*items 테이블이 이미 있다면 제거하기*/\n",
    "DROP TABLE IF EXISTS items;\n",
    "\n",
    "/*테이블 생성하기*/\n",
    "CREATE TABLE items(\n",
    "    item_id INTEGER PRIMARY KEY,\n",
    "    name TEXT UNIQUE, \n",
    "    price INTEGER\n",
    ");\n",
    "\n",
    "/*데이터 넣기*/\n",
    "INSERT INTO items(name, price)VALUES('Apple',800);\n",
    "INSERT INTO items(name, price)VALUES('Orange',780);\n",
    "INSERT INTO items(name, price)VALUES('Banana',430);\n",
    "\"\"\")\n",
    "\n",
    "\n",
    "#위의 조작을 데이터베이스에 반영\n",
    "conn.commit()\n",
    "\n",
    "#데이터 추출하기\n",
    "cur=conn.cursor()\n",
    "cur.execute(\"SELECT item_id, name, price FROM items\") #SQL 한 문장 일 때 cur.execute()로 실행가능\n",
    "item_list=cur.fetchall() # 결과를 전부 추출 가능 / 한개씩 추출하고 싶을때는 cur.fetchone()\n",
    "\n",
    "#출력하기\n",
    "for item in item_list:\n",
    "    print(item)\n",
    "    "
   ]
  },
  {
   "cell_type": "code",
   "execution_count": 7,
   "metadata": {},
   "outputs": [
    {
     "name": "stdout",
     "output_type": "stream",
     "text": [
      "(1, 'Orange', 5200)\n",
      "(3, 'Kiwi', 4000)\n",
      "(6, 'Persimmon', 7000)\n",
      "(7, 'Banana', 4000)\n"
     ]
    }
   ],
   "source": [
    "import sqlite3\n",
    " \n",
    "#데이터베이스 연결\n",
    "filepath=\"test2.sqlite\"\n",
    "conn=sqlite3.connect(filepath)\n",
    "\n",
    "#테이블 생성\n",
    "cur=conn.cursor()\n",
    "cur.execute(\"DROP TABLE IF EXISTS items\")\n",
    "cur.execute(\"\"\"CREATE TABLE items(\n",
    "    item_id INTEGER PRIMARY KEY,\n",
    "    name TEXT, \n",
    "    price INTEGER)\"\"\")\n",
    "\n",
    "conn.commit()\n",
    "\n",
    "#데이터 넣기\n",
    "cur=conn.cursor()\n",
    "cur.execute(\n",
    "    \"INSERT INTO items (name, price) VALUES(?,?)\",\n",
    "    (\"Orange\",5200)\n",
    "    )\n",
    "conn.commit()\n",
    "\n",
    "#여러 데이터 연속으로 넣기\n",
    "cur=conn.cursor()\n",
    "data=[(\"Mango\",7700),(\"Kiwi\",4000),(\"Grape\",8000),(\"Peach\",9400),(\"Persimmon\",7000),(\"Banana\",4000)]\n",
    "cur.executemany(\n",
    "    \"INSERT INTO items(name,price) VALUES (?,?)\", data) #? 뒤의 값으로 치환 / 보안 위협을 막을 수 있는 방법\n",
    "\n",
    "conn.commit()\n",
    "\n",
    "#4000-7000사이의 데이터 추출하기\n",
    "cur=conn.cursor()\n",
    "price_range=(4000,7000) #4000이상을 원한다면 (4000,)\n",
    "cur.execute(\n",
    "    \"SELECT * FROM items WHERE price>=? AND price <=?\", price_range)\n",
    "fr_list=cur.fetchall()\n",
    "for fr in fr_list:\n",
    "    print(fr)\n"
   ]
  },
  {
   "cell_type": "code",
   "execution_count": 3,
   "metadata": {},
   "outputs": [
    {
     "name": "stdout",
     "output_type": "stream",
     "text": [
      "(1, 'Banana', 300)\n",
      "(2, 'Mango', 640)\n",
      "(3, 'kiwi', 280)\n"
     ]
    }
   ],
   "source": [
    "import MySQLdb\n",
    "\n",
    "conn=MySQLdb.connect(\n",
    "    user='root',\n",
    "    passwd='Young8276!',\n",
    "    host='localhost',\n",
    "    db='test'\n",
    ")\n",
    "\n",
    "\n",
    "cur=conn.cursor()\n",
    "\n",
    "\n",
    "cur.execute('DROP TABLE items')\n",
    "cur.execute(\"\"\"\n",
    "    CREATE TABLE items(\n",
    "    item_id INTEGER PRIMARY KEY AUTO_INCREMENT,\n",
    "    name TEXT, \n",
    "    price INTEGER)\n",
    "    \"\"\")\n",
    "\n",
    "data=[('Banana',300),('Mango',640),('kiwi', 280)]\n",
    "for dat in data:\n",
    "    cur.execute(\"INSERT INTO items (name, price) VALUES(%s,%s)\",dat)\n",
    "    \n",
    "cur.execute(\"SELECT * FROM items\")\n",
    "for row in cur.fetchall():\n",
    "    print(row)"
   ]
  },
  {
   "cell_type": "code",
   "execution_count": null,
   "metadata": {},
   "outputs": [],
   "source": [
    "#TinyDB\n",
    "from tinydb import TinyDB, Query\n",
    "\n",
    "#데이터베이스 연결하기\n",
    "filepath=\"test-tynydb.json\"\n",
    "db=TinyDB(filepath)\n",
    "\n",
    "#기존의 테이블이 있다면 제거\n",
    "db.purge_table('fruits')\n",
    "\n",
    "#테이블 생성/추출\n",
    "table=db.table('fruits')\n",
    "\n",
    "#테이블에 데이터 추가하기\n",
    "table.insert({'name':'Banana', 'price':6000})\n",
    "table.insert({'name':'Orange','price':12000})\n",
    "table.insert({'name':'Mango','price':8400})\n",
    "\n",
    "#모든 데이터 추출해서 출력\n",
    "print(table.all())\n",
    "\n",
    "#특정 데이터 추출 (Orange 검색)\n",
    "Item=Query()\n",
    "res=table.search(Item.name=='Orange')\n",
    "print('Orange is', res[0]['price'])\n",
    "\n",
    "#가격이 8000원 이상인 것 추출\n",
    "print(\"8000원 이상 : \")\n",
    "res=table.search(Item.price>=8000)\n",
    "for it in res:\n",
    "    print(it['name'],\" \")"
   ]
  }
 ],
 "metadata": {
  "kernelspec": {
   "display_name": "Python 3",
   "language": "python",
   "name": "python3"
  },
  "language_info": {
   "codemirror_mode": {
    "name": "ipython",
    "version": 3
   },
   "file_extension": ".py",
   "mimetype": "text/x-python",
   "name": "python",
   "nbconvert_exporter": "python",
   "pygments_lexer": "ipython3",
   "version": "3.6.6"
  }
 },
 "nbformat": 4,
 "nbformat_minor": 2
}
