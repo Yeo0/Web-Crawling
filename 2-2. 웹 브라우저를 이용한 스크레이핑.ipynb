{
 "cells": [
  {
   "cell_type": "code",
   "execution_count": 5,
   "metadata": {},
   "outputs": [],
   "source": [
    "#기본구조\n",
    "from selenium import webdriver\n",
    "\n",
    "#드라이버추출 + 내부적으로 드라이버 실행하는 코드\n",
    "#driver=webdriver.PhantomJS('/Users/yeoyoung/Downloads/phantomjs-2.1.1-macosx/bin/phantomjs') _ anaconda3랑 뭔가 있ㄴㄴ\n",
    "driver=webdriver.Chrome('/Users/yeoyoung/Downloads/Chromedriver')\n",
    "driver.implicitly_wait(3) #완전히 초기화 될 때까지 3초정도 기다림\n",
    "\n",
    "#Url읽어들이기\n",
    "url=\"http://www.naver.com/\"\n",
    "driver.get(url)\n",
    "\n",
    "#하고싶은 활동들\n",
    "driver.save_screenshot(\"Website.png\")\n",
    "\n",
    "#드리아버 종료\n",
    "driver.quit()\n"
   ]
  },
  {
   "cell_type": "code",
   "execution_count": null,
   "metadata": {},
   "outputs": [],
   "source": [
    "스크린샷과 나한테 실제 보이는 웹 페이지가 다를 수 있기 때문에 스크린샷을 확인해주면서 진행해야함\n",
    "\n",
    "네이버로그인페이지 http;//nid.naver.com/nidlogin.login\n",
    "실제 크롬돌렸을때도 스크린샷이 일치하는지 확인"
   ]
  },
  {
   "cell_type": "code",
   "execution_count": 22,
   "metadata": {},
   "outputs": [
    {
     "ename": "NameError",
     "evalue": "name 'titles' is not defined",
     "output_type": "error",
     "traceback": [
      "\u001b[0;31m---------------------------------------------------------------------------\u001b[0m",
      "\u001b[0;31mNameError\u001b[0m                                 Traceback (most recent call last)",
      "\u001b[0;32m<ipython-input-22-5965f1f3a6aa>\u001b[0m in \u001b[0;36m<module>\u001b[0;34m()\u001b[0m\n\u001b[1;32m     31\u001b[0m \u001b[0mdriver\u001b[0m\u001b[0;34m.\u001b[0m\u001b[0mget\u001b[0m\u001b[0;34m(\u001b[0m\u001b[0;34m\"http://mail.naver.com\"\u001b[0m\u001b[0;34m)\u001b[0m\u001b[0;34m\u001b[0m\u001b[0m\n\u001b[1;32m     32\u001b[0m \u001b[0mdriver\u001b[0m\u001b[0;34m.\u001b[0m\u001b[0mfind_elements_by_css_selector\u001b[0m\u001b[0;34m(\u001b[0m\u001b[0;34m\"strong.mail_title\"\u001b[0m\u001b[0;34m)\u001b[0m \u001b[0;31m#elements : 여러개\u001b[0m\u001b[0;34m\u001b[0m\u001b[0m\n\u001b[0;32m---> 33\u001b[0;31m \u001b[0;32mfor\u001b[0m \u001b[0mtitle\u001b[0m \u001b[0;32min\u001b[0m \u001b[0mtitles\u001b[0m\u001b[0;34m:\u001b[0m\u001b[0;34m\u001b[0m\u001b[0m\n\u001b[0m\u001b[1;32m     34\u001b[0m     \u001b[0mprint\u001b[0m\u001b[0;34m(\u001b[0m\u001b[0;34m\"-\"\u001b[0m\u001b[0;34m,\u001b[0m\u001b[0mtitle\u001b[0m\u001b[0;34m.\u001b[0m\u001b[0mtext\u001b[0m\u001b[0;34m)\u001b[0m\u001b[0;34m\u001b[0m\u001b[0m\n\u001b[1;32m     35\u001b[0m \u001b[0mdriver\u001b[0m\u001b[0;34m.\u001b[0m\u001b[0mquit\u001b[0m\u001b[0;34m(\u001b[0m\u001b[0;34m)\u001b[0m\u001b[0;34m\u001b[0m\u001b[0m\n",
      "\u001b[0;31mNameError\u001b[0m: name 'titles' is not defined"
     ]
    }
   ],
   "source": [
    "from selenium import webdriver\n",
    "from selenium.webdriver.common.keys import Keys\n",
    "\n",
    "driver=webdriver.Chrome('/Users/yeoyoung/Downloads/Chromedriver')\n",
    "driver.implicitly_wait(3)\n",
    "\n",
    "#로그인 페이지에 접근하기\n",
    "url=\"https://nid.naver.com/nidlogin.login\"\n",
    "driver.get(url)\n",
    "\n",
    "driver.maximize_window()\n",
    "\n",
    "#텍스트 박스에 아이디와 비밀번호 입력하기 \n",
    "element_id=driver.find_element_by_id(\"id\") #id텍스트 입력상자\n",
    "element_id.clear() #텍스트 상자내의 문자 clear\n",
    "element_id.send_keys(\"w\")\n",
    "\n",
    "element_pw= driver.find_element_by_id(\"pw\") #pw 텍스트 입력상자\n",
    "element_pw.clear() #텍스트 상자내의 문자 clear\n",
    "element_pw.send_keys(\"Y9!\")\n",
    "\n",
    "#입력양식 전송해서 로그인하기\n",
    "button=driver.find_element_by_css_selector(\"input.btn_global[type=submit]\")\n",
    "button.submit() \n",
    "\n",
    "\n",
    "#--자동입력\n",
    "\n",
    "\n",
    "#메일페이지 불러오기\n",
    "driver.get(\"http://mail.naver.com\")\n",
    "driver.find_elements_by_css_selector(\"strong.mail_title\") #elements : 여러개\n",
    "for title in titles:\n",
    "    print(\"-\",title.text)\n",
    "driver.quit()"
   ]
  },
  {
   "cell_type": "code",
   "execution_count": 20,
   "metadata": {},
   "outputs": [],
   "source": [
    "from selenium import webdriver\n",
    "\n",
    "driver=webdriver.Chrome('/Users/yeoyoung/Downloads/Chromedriver')\n",
    "driver.implicitly_wait(3)\n",
    "\n",
    "#로그인 url읽기\n",
    "url=\"https://nid.naver.com/nidlogin.login\"\n",
    "driver.get(url)\n",
    "\n",
    "driver.maximize_window()\n",
    "\n",
    "driver.find_element_by_id(\"id\").send_keys(\"아이디\")\n",
    "driver.find_element_by_id(\"pw\").send_keys(\"비밀번호\")\n",
    "driver.find_element_by_xpath('//*[@id=\"frmNIDLogin\"]/fieldset/input').click() \n",
    "\n",
    "#--자동입ㄹ겨\n",
    "driver.quit()"
   ]
  },
  {
   "cell_type": "code",
   "execution_count": null,
   "metadata": {},
   "outputs": [],
   "source": [
    "# f5를 눌렀을 때 조금 기다렸다 출력되는 애들 = 자바스크립트로 뭔가를 가져와서 출력하는 애들 -> selenium 사용 "
   ]
  },
  {
   "cell_type": "code",
   "execution_count": 23,
   "metadata": {},
   "outputs": [
    {
     "name": "stdout",
     "output_type": "stream",
     "text": [
      "150\n"
     ]
    }
   ],
   "source": [
    "#자바스크립트 실행하기\n",
    "from selenium import webdriver\n",
    "\n",
    "driver=webdriver.Chrome('/Users/yeoyoung/Downloads/Chromedriver')\n",
    "driver.implicitly_wait(3)\n",
    "\n",
    "#웹 페이지 열기\n",
    "driver.get(\"http://google.com\")\n",
    " \n",
    "#자바스크립트 실행\n",
    "r=driver.execute_script(\"return 100+50\")\n",
    "print(r)\n"
   ]
  }
 ],
 "metadata": {
  "kernelspec": {
   "display_name": "Python 3",
   "language": "python",
   "name": "python3"
  },
  "language_info": {
   "codemirror_mode": {
    "name": "ipython",
    "version": 3
   },
   "file_extension": ".py",
   "mimetype": "text/x-python",
   "name": "python",
   "nbconvert_exporter": "python",
   "pygments_lexer": "ipython3",
   "version": "3.6.6"
  }
 },
 "nbformat": 4,
 "nbformat_minor": 2
}
