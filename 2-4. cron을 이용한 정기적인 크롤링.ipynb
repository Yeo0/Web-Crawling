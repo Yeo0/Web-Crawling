{
 "cells": [
  {
   "cell_type": "code",
   "execution_count": 2,
   "metadata": {},
   "outputs": [
    {
     "name": "stdout",
     "output_type": "stream",
     "text": [
      "usd/krw 1,113.00\n"
     ]
    }
   ],
   "source": [
    "#매일 환율 정보 저장하기\n",
    "from bs4 import BeautifulSoup\n",
    "import urllib.request as req\n",
    "import datetime\n",
    "\n",
    "#HTML가져오기\n",
    "url=\"https://finance.naver.com/marketindex/\"\n",
    "res=req.urlopen(url)\n",
    "\n",
    "#HTML분석하기\n",
    "soup=BeautifulSoup(res, 'html.parser')\n",
    "\n",
    "#원하는 데이터 추출\n",
    "price=soup.select_one('div.head_info > span.value').string\n",
    "print(\"usd/krw\",price)\n",
    "\n",
    "#저장할 파일 이름 구하기\n",
    "t=datetime.date.today() #오늘 날짜\n",
    "fname=t.strftime(\"%y-%m-%d\")+\".txt\" #strftime : 날짜 -> 스트링\n",
    "with open(fname, \"w\", encoding=\"utf-8\") as f:\n",
    "    f.write(price)"
   ]
  },
  {
   "cell_type": "code",
   "execution_count": null,
   "metadata": {},
   "outputs": [],
   "source": []
  }
 ],
 "metadata": {
  "kernelspec": {
   "display_name": "Python 3",
   "language": "python",
   "name": "python3"
  },
  "language_info": {
   "codemirror_mode": {
    "name": "ipython",
    "version": 3
   },
   "file_extension": ".py",
   "mimetype": "text/x-python",
   "name": "python",
   "nbconvert_exporter": "python",
   "pygments_lexer": "ipython3",
   "version": "3.6.6"
  }
 },
 "nbformat": 4,
 "nbformat_minor": 2
}
