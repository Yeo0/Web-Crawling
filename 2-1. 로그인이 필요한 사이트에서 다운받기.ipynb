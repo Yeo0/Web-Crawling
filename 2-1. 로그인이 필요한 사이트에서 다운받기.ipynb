{
 "cells": [
  {
   "cell_type": "code",
   "execution_count": null,
   "metadata": {},
   "outputs": [],
   "source": [
    "#get요청 (기본적)\n",
    "import requests\n",
    "\n",
    "url=\"http://google.com\"\n",
    "data={\n",
    "    \"a\"=\"10\",\n",
    "    \"b\"=\"20\"\n",
    "}\n",
    "\n",
    "\n",
    "session=requests.session()\n",
    "response=session.get(url, data=data)\n",
    "response.raise_for_status()\n",
    "\n",
    "print(responce.text)\n",
    "\n",
    "\n",
    "\n"
   ]
  },
  {
   "cell_type": "code",
   "execution_count": null,
   "metadata": {},
   "outputs": [],
   "source": [
    "#한빛출판 네트워크에 로그인 - 마이페이지 - 마일리지와 코인을 확인하는 예제\n",
    "\n",
    "\n",
    "1. 네트워크 상태 녹화 - 레코딩 빨간불이 들어와있는지 확인\n",
    "2. 로그 유지 - preserve log 체크 되있는지 확ㅇ니\n",
    "3. 필요하면 doc 설정\n",
    "\n",
    "로그인 하는 과정에서 어느 시점에 아이디와 비밀번호가 넘어갔는지 확인하기\n",
    "\n",
    "<확인해야할 것 >\n",
    "0.어떤부분에서 로그인이 이루어지는지\n",
    "어떤 url에 어떤 메소드로 어떤 데이터를 보내서 요청하는지 확인\n",
    "\n",
    "1.form data에서 로그인할때 무엇이 넘어갔는지 (return_url, m_id, m_passwd)\n",
    "2.general에서 무슨방식인지 확인 (GET, POST 등)\n"
   ]
  },
  {
   "cell_type": "code",
   "execution_count": 8,
   "metadata": {},
   "outputs": [
    {
     "name": "stdout",
     "output_type": "stream",
     "text": [
      "이코인 0\n"
     ]
    }
   ],
   "source": [
    "import requests\n",
    "from bs4 import BeautifulSoup\n",
    "\n",
    "#세션만들기\n",
    "session=requests.session()\n",
    "\n",
    "#로그인 하는 페이지의 general-requestURL에서 url 가져옴\n",
    "url=\"http://www.hanbit.co.kr/member/login_proc.php\"\n",
    "\n",
    "#가져오고 싶은 데이터 (form data)\n",
    "data={\n",
    "    \"return_url\":\"http://www.hanbit.co.kr/index.html\",\n",
    "    \"m_id\":\"아이디\",\n",
    "    \"m_passwd\":\"비밀번호\"\n",
    "    \n",
    "}\n",
    "response=session.post(url, data=data ) #요청을 모방하면됨 (get, post, put 등)\n",
    "\n",
    "#로그인 실행\n",
    "response.raise_for_status()\n",
    "\n",
    "\n",
    "#마이페이지 접근\n",
    "url_mypage=\"http://www.hanbit.co.kr/myhanbit/myhanbit.html\"\n",
    "response=session.get(url_mypage)\n",
    "response.raise_for_status()\n",
    "#print(response.text)\n",
    "\n",
    "#HTML분석 (이코인 가져오기)\n",
    "soup=BeautifulSoup(response.text,\"html.parser\")\n",
    "#container > div > div.sm_mymileage > dl.mileage_section2 > dd\n",
    "text=soup.select_one(\".mileage_section2 span\").get_text()\n",
    "print(\"이코인:\",text)"
   ]
  },
  {
   "cell_type": "code",
   "execution_count": 9,
   "metadata": {},
   "outputs": [],
   "source": [
    "import requests\n",
    "\n",
    "#get요청\n",
    "r=requests.get(\"http://google.com\")\n",
    "\n",
    "#post요청\n",
    "formdata={\n",
    "    \"key1\":\"value1\",\n",
    "    \"key2\":\"value2\"\n",
    "}\n",
    "r=requests.post(\"http://example.com\", data=formdata)"
   ]
  },
  {
   "cell_type": "code",
   "execution_count": null,
   "metadata": {},
   "outputs": [],
   "source": [
    "#그 밖의 요청\n",
    "r=requests.put(\"http://httpbin.org/put\")\n",
    "r=requests.delete(\"http://httpbin.org/delete\")\n",
    "r=requests.head(\"http://httpbin.org/get\")\n",
    "\n",
    "#return 값에 있는 text, content 속성 참조하면 내부 데이터 확인 가능"
   ]
  },
  {
   "cell_type": "code",
   "execution_count": 14,
   "metadata": {},
   "outputs": [
    {
     "name": "stdout",
     "output_type": "stream",
     "text": [
      "2018/09/24 18:30:05\n",
      "b'2018/09/24 18:30:05'\n",
      "saved\n"
     ]
    }
   ],
   "source": [
    "#현재 시간에 대한 데이터 추출, 추출한 데이터를 텍스트 형식과 바이너리 형식으로 출력하는 예제\n",
    "\n",
    "#데이터 가져오기\n",
    "import requests\n",
    "r=requests.get(\"http://api.aoikujira.com/time/get.php\")\n",
    "\n",
    "#텍스트 형식으로 데이터 추출하기\n",
    "text=r.text\n",
    "print(text)\n",
    "\n",
    "#바이너리 형식으로 데이터 추출하기\n",
    "bin=r.content\n",
    "print(bin)\n",
    "\n"
   ]
  },
  {
   "cell_type": "code",
   "execution_count": null,
   "metadata": {},
   "outputs": [],
   "source": [
    "#바이너리를 활용해 이미지 저장 예제 (이미지는 바이너리 데이터이다)\n",
    "\n",
    "#이미지 데이터 추출하기\n",
    "import requests\n",
    "r=requests.get(\"http://wikibook.co.kr/wikibook.png\")\n",
    "\n",
    "#바이너리 형식으로 데이터 저장하기\n",
    "with open (\"test.png\",\"wb\") as f:\n",
    "    f.write(r.content)"
   ]
  }
 ],
 "metadata": {
  "kernelspec": {
   "display_name": "Python 3",
   "language": "python",
   "name": "python3"
  },
  "language_info": {
   "codemirror_mode": {
    "name": "ipython",
    "version": 3
   },
   "file_extension": ".py",
   "mimetype": "text/x-python",
   "name": "python",
   "nbconvert_exporter": "python",
   "pygments_lexer": "ipython3",
   "version": "3.6.6"
  }
 },
 "nbformat": 4,
 "nbformat_minor": 2
}
