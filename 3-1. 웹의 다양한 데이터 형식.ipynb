{
 "cells": [
  {
   "cell_type": "code",
   "execution_count": 1,
   "metadata": {},
   "outputs": [],
   "source": [
    "#파일 이름과 데이터\n",
    "filename=\"a.bin\"\n",
    "data=100\n",
    "\n",
    "#쓰기\n",
    "with open(filename, \"wb\") as f:\n",
    "    f.write(bytearray([data]))\n",
    "    "
   ]
  },
  {
   "cell_type": "code",
   "execution_count": null,
   "metadata": {},
   "outputs": [],
   "source": [
    "#xml 여는태그 닫는 태그 존재\n",
    "<태그> : 여는태그\n",
    "</태그> : 닫는태그\n",
    "요소(element)의 두가지 형식\n",
    "1. <태그></태그>\n",
    "2. <태그/>\n",
    "\n",
    "#콘텐츠\n",
    "<태그>{{콘텐츠}}</태그>\n",
    "<태그>\n",
    "    <태그></태그>\n",
    "    <태그></태그>\n",
    "</태그>\n",
    "\n",
    "ex)\n",
    "<태그>안녕하세요</태그>\n",
    "<태그>\n",
    "    <태그>안녕히주무세요</태그>\n",
    "    <태그>맛있게드세요</태그>\n",
    "</태그>\n",
    "\n",
    "#속성\n",
    "<태그 속성=\"값\" 속성=\"값\" 속성=\"값\" 속성=\"값\">{{콘텐츠}}</태그>\n",
    "<태그 속성=\"값\" 속성=\"값\" 속성=\"값\" 속성=\"값\" />\n",
    "무조건 적으로 쌍따옴표로 감싸줘야함! 숫자를 표현하고 싶다면 별도의 자료형 이용해야\n",
    "\n",
    "#루트태그는 하나여야함"
   ]
  },
  {
   "cell_type": "code",
   "execution_count": null,
   "metadata": {},
   "outputs": [],
   "source": [
    "http://www.kma.go.kr/weather/forecast/mid-term-rss3.jsp?stnId=108\n",
    "<rss version=\"2.0\"> : 루트태그\n",
    "rss:태그, version:속성, 2.0:값\n",
    "            "
   ]
  },
  {
   "cell_type": "code",
   "execution_count": 11,
   "metadata": {},
   "outputs": [
    {
     "name": "stdout",
     "output_type": "stream",
     "text": [
      "구름조금\n",
      "구름조금\n",
      "구름조금\n",
      "구름조금\n",
      "구름조금\n",
      "구름조금\n",
      "구름조금\n",
      "구름조금\n",
      "구름조금\n",
      "구름조금\n",
      "구름조금\n",
      "구름조금\n",
      "구름조금\n"
     ]
    }
   ],
   "source": [
    "#서울에 있는 날씨 데이터\n",
    "\n",
    "from bs4 import BeautifulSoup\n",
    "import urllib.request as req\n",
    "\n",
    "url=\"http://www.kma.go.kr/weather/forecast/mid-term-rss3.jsp?stnId=108\"\n",
    "request=req.urlopen(url)\n",
    "xml=request.read()\n",
    "\n",
    "soup=BeautifulSoup(xml,\"html.parser\")\n",
    "seoul=soup.find_all(\"location\")[0]\n",
    "datas=seoul.find_all(\"data\")\n",
    "\n",
    "for item in datas:\n",
    "    print(item.find(\"wf\").text)\n",
    "\n",
    "    "
   ]
  },
  {
   "cell_type": "code",
   "execution_count": 17,
   "metadata": {},
   "outputs": [
    {
     "name": "stdout",
     "output_type": "stream",
     "text": [
      "+ 구름조금\n",
      "|- 서울\n",
      "|- 인천\n",
      "|- 수원\n",
      "|- 파주\n",
      "|- 춘천\n",
      "|- 원주\n",
      "|- 강릉\n",
      "|- 대전\n",
      "|- 세종\n",
      "|- 홍성\n",
      "|- 청주\n",
      "|- 광주\n",
      "|- 목포\n",
      "|- 여수\n",
      "|- 전주\n",
      "|- 군산\n",
      "|- 부산\n",
      "|- 울산\n",
      "|- 창원\n",
      "|- 대구\n",
      "|- 안동\n",
      "|- 포항\n",
      "+ 구름많음\n",
      "|- 제주\n",
      "|- 서귀포\n"
     ]
    }
   ],
   "source": [
    "#날씨별 지역\n",
    "from bs4 import BeautifulSoup\n",
    "import urllib.request as req\n",
    "import os.path\n",
    "\n",
    "url=\"http://www.kma.go.kr/weather/forecast/mid-term-rss3.jsp?stnId=108\"\n",
    "savename=\"forecast.xml\"\n",
    "if not os.path.exists(savename):\n",
    "    req.urlretrieve(url,savename)\n",
    "    \n",
    "xml=open(savename, \"r\", encoding=\"utf-8\").read()\n",
    "soup=BeautifulSoup(xml,'html.parser')\n",
    "\n",
    "#날씨 별 도시로 dict 생성\n",
    "info={}\n",
    "for location in soup.find_all(\"location\"):\n",
    "    name=location.find('city').string\n",
    "    weather=location.find('wf').string\n",
    "    if not (weather in info):\n",
    "        info[weather]=[]\n",
    "    info[weather].append(name)\n",
    "    \n",
    "for weather in info.keys():\n",
    "    print(\"+\", weather)\n",
    "    for name in info[weather]:\n",
    "        print(\"|-\", name)"
   ]
  },
  {
   "cell_type": "code",
   "execution_count": null,
   "metadata": {},
   "outputs": [],
   "source": []
  }
 ],
 "metadata": {
  "kernelspec": {
   "display_name": "Python 3",
   "language": "python",
   "name": "python3"
  },
  "language_info": {
   "codemirror_mode": {
    "name": "ipython",
    "version": 3
   },
   "file_extension": ".py",
   "mimetype": "text/x-python",
   "name": "python",
   "nbconvert_exporter": "python",
   "pygments_lexer": "ipython3",
   "version": "3.6.6"
  }
 },
 "nbformat": 4,
 "nbformat_minor": 2
}
