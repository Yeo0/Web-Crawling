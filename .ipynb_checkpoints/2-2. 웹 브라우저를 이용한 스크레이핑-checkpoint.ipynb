{
 "cells": [
  {
   "cell_type": "code",
   "execution_count": 5,
   "metadata": {},
   "outputs": [],
   "source": [
    "#기본구조\n",
    "from selenium import webdriver\n",
    "\n",
    "#드라이버추출 + 내부적으로 드라이버 실행하는 코드\n",
    "#driver=webdriver.PhantomJS('/Users/yeoyoung/Downloads/phantomjs-2.1.1-macosx/bin/phantomjs') _ anaconda3랑 뭔가 있ㄴㄴ\n",
    "driver=webdriver.Chrome('/Users/yeoyoung/Downloads/Chromedriver')\n",
    "driver.implicitly_wait(3) #완전히 초기화 될 때까지 3초정도 기다림\n",
    "\n",
    "#Url읽어들이기\n",
    "url=\"http://www.naver.com/\"\n",
    "driver.get(url)\n",
    "\n",
    "#하고싶은 활동들\n",
    "driver.save_screenshot(\"Website.png\")\n",
    "\n",
    "#드리아버 종료\n",
    "driver.quit()\n"
   ]
  },
  {
   "cell_type": "code",
   "execution_count": null,
   "metadata": {},
   "outputs": [],
   "source": [
    "스크린샷과 나한테 실제 보이는 웹 페이지가 다를 수 있기 때문에 스크린샷을 확인해주면서 진행해야함\n",
    "\n",
    "네이버로그인페이지 http;//nid.naver.com/nidlogin.login\n",
    "실제 크롬돌렸을때도 스크린샷이 일치하는지 확인"
   ]
  },
  {
   "cell_type": "code",
   "execution_count": 6,
   "metadata": {},
   "outputs": [],
   "source": [
    "from selenium import webdriver\n",
    "from selenium.webdriver.common.keys import Keys\n",
    "\n",
    "driver=webdriver.Chrome('/Users/yeoyoung/Downloads/Chromedriver')\n",
    "driver.implicitly_wait(3)\n",
    "\n",
    "#로그인 페이지에 접근하기\n",
    "url=\"https://nid.naver.com/nidlogin.login\"\n",
    "driver.get(url)\n",
    "\n",
    "\n",
    "#텍스트 박스에 아이디와 비밀번호 입력하기 \n",
    "element_id=driver.find_element_by_id(\"id\") #id텍스트 입력상자\n",
    "element_id.clear() #텍스트 상자내의 문자 clear\n",
    "element_id.send_keys(\"wooli6\")\n",
    "\n",
    "element_pw= driver.find_element_by_id(\"pw\") #pw 텍스트 입력상자\n",
    "element_pw.clear() #텍스트 상자내의 문자 clear\n",
    "element_pw.send_keys(\"Young9187!\")\n",
    "\n",
    "#입력양식 전송해서 로그인하기\n",
    "button=driver.find_element_by_css_selector(\"input.btn_global[type=submit]\")\n",
    "button.submit() \n",
    "\n"
   ]
  },
  {
   "cell_type": "code",
   "execution_count": 8,
   "metadata": {},
   "outputs": [
    {
     "name": "stdout",
     "output_type": "stream",
     "text": [
      "- 나여영님을 위한 ㈜KT DS 공채 / 키움닷컴 신입공채 소식까지 준비했습니다.\n",
      "- 6 번째 태그 ‘조금대담한편’에 대해 깊이 알기\n",
      "- Have you taken a selfie here? It’s the perfect time!\n",
      "- 할로윈을 위한 무료 카탈로그 템플릿\n",
      "- [마감임박] 나여영님을 분석한 결과 ㈜온누리에이치엔씨의 채용공고가 높은 확률로 매칭되었습니다.\n",
      "- 나여영 님이 관심 있을만한 새 채용 정보 4 개를 찾았습니다. 💡\n",
      "- (광고) 🚪 완벽한 휴가로 가는 문이 눈앞에!\n",
      "- 사람과 기술이 희망이다, 한전KPS\n",
      "- [맞춤정보] 나여영님을 위한 맞춤정보가 업데이트 되었습니다.\n",
      "- [DBGuide.net] 2018 제15회 DA설계공모대전 접수 및 제출기한 안내\n",
      "- [한상넷 뉴스레터] 한상넷 뉴스레터를 통한 2018년 9월 리뷰\n",
      "- 뉴스 6, 전문 자료 1, 투자 2, 새 기업 2, 새 제품 4, 채용 53, 프로필 4개를 보내드립니다.\n",
      "- 09월28일(금) 나여영님의 맞춤조건으로 (주)지솔루션의 채용공고가 검색되었습니다.\n",
      "- 나여영님을 분석한 결과 ㈜온누리에이치엔씨의 채용공고가 높은 확률로 매칭되었습니다.\n",
      "- [조사·분석·통계]나여영님의 맞춤채용정보가 5건 업데이트 되었습니다.\n",
      "- Quick, Draw! Doodle Recognition Challenge Launch\n",
      "- [하이브레인넷 724호] 논문 피인용수 노벨상 수상 수준 도달 한국 과학자 6명\n",
      "- 알고리즘.pdf\n",
      "- Re: 안녕하세요 에누마 김형진입니다\n",
      "- 안녕하세요 에누마 김형진입니다\n",
      "- yy의 성격에 관한 5번째 특징\n",
      "- Unix, Linux, MacOS를 명령어로 제어하는 방법에 대한 수업을 만들었습니다\n",
      "- (광고)[알림｜생방송 인적성특강]★내일 오후 6시★단,1시간만 배우면 “응용계산 15초컷”가능!!\n",
      "- yy의 가장 특징적인 성격\n",
      "- fourth_tag\n",
      "- (광고) [오늘까지 추석특별할인] 삼성GSAT부터 현대차HMAT 직무적성검사의 '시간단축'과 '정답률' 을 단기에 해결할 수 있는 핵심풀이법을 공개합니다!\n",
      "- 💌[스펙업] 자소서 단골 항목 완벽 공략법 보내드립니다.\n",
      "- 성격을 만드는 여러 요소를 배우다\n",
      "- 김박사넷 회원가입 메일입니다.\n",
      "- yy의 성격에 관한 두2번째 특징\n",
      "- ML-Friendly Public Datasets\n",
      "- [프로그래머스] 가입을 환영합니다.\n",
      "- 알고리즘.pdf\n",
      "- ISC Tandem Database\n",
      "- (제목없음)\n",
      "- [한국필립모리스] 한강뷰 치맥파티에 신청해 주셔서 감사드립니다.\n",
      "- Recall: [한국필립모리스] 한강뷰 치맥파티에 신청해 주셔서 감사드립니다.\n",
      "- [한국필립모리스] 한강뷰 치맥파티에 신청해 주셔서 감사드립니다.\n",
      "- 【mgram 진단】yy를 구성하는 8가지 성격이 발견되었습니다\n",
      "- DAP, DAsP, ADP, ADsP 합격자 KOTRA 채용우대 안내.\n",
      "- Baekjoon Online Judge 이메일 인증\n",
      "- [일반_개인]나*영님(010-****-34*1)의 하나카드 2018년10월01일 이용대금명세서입니다.\n",
      "- <마감임박 / 나는리뷰어다> 9월 리뷰이벤트에 초대합니다.\n",
      "- '최종 startup 제안서, 이력서_자기소개서'에 파일을 업로드했습니다.\n",
      "- (37차) 데이터 분석을 이용한 네트워크 보안\n"
     ]
    }
   ],
   "source": [
    "\n",
    "#--자동입력\n",
    "\n",
    "\n",
    "#메일페이지 불러오기\n",
    "driver.get(\"http://mail.naver.com\")\n",
    "titles=driver.find_elements_by_css_selector(\"strong.mail_title\") #elements : 여러개\n",
    "for title in titles:\n",
    "    print(\"-\",title.text)\n",
    "driver.quit()"
   ]
  },
  {
   "cell_type": "code",
   "execution_count": 20,
   "metadata": {},
   "outputs": [],
   "source": [
    "from selenium import webdriver\n",
    "\n",
    "driver=webdriver.Chrome('/Users/yeoyoung/Downloads/Chromedriver')\n",
    "driver.implicitly_wait(3)\n",
    "\n",
    "#로그인 url읽기\n",
    "url=\"https://nid.naver.com/nidlogin.login\"\n",
    "driver.get(url)\n",
    "\n",
    "driver.maximize_window()\n",
    "\n",
    "driver.find_element_by_id(\"id\").send_keys(\"아이디\")\n",
    "driver.find_element_by_id(\"pw\").send_keys(\"비밀번호\")\n",
    "driver.find_element_by_xpath('//*[@id=\"frmNIDLogin\"]/fieldset/input').click() \n",
    "\n",
    "#--자동입ㄹ겨\n",
    "driver.quit()"
   ]
  },
  {
   "cell_type": "code",
   "execution_count": null,
   "metadata": {},
   "outputs": [],
   "source": [
    "# f5를 눌렀을 때 조금 기다렸다 출력되는 애들 = 자바스크립트로 뭔가를 가져와서 출력하는 애들 -> selenium 사용 "
   ]
  },
  {
   "cell_type": "code",
   "execution_count": 23,
   "metadata": {},
   "outputs": [
    {
     "name": "stdout",
     "output_type": "stream",
     "text": [
      "150\n"
     ]
    }
   ],
   "source": [
    "#자바스크립트 실행하기\n",
    "from selenium import webdriver\n",
    "\n",
    "driver=webdriver.Chrome('/Users/yeoyoung/Downloads/Chromedriver')\n",
    "driver.implicitly_wait(3)\n",
    "\n",
    "#웹 페이지 열기\n",
    "driver.get(\"http://google.com\")\n",
    " \n",
    "#자바스크립트 실행\n",
    "r=driver.execute_script(\"return 100+50\")\n",
    "print(r)\n"
   ]
  }
 ],
 "metadata": {
  "kernelspec": {
   "display_name": "Python 3",
   "language": "python",
   "name": "python3"
  },
  "language_info": {
   "codemirror_mode": {
    "name": "ipython",
    "version": 3
   },
   "file_extension": ".py",
   "mimetype": "text/x-python",
   "name": "python",
   "nbconvert_exporter": "python",
   "pygments_lexer": "ipython3",
   "version": "3.6.6"
  }
 },
 "nbformat": 4,
 "nbformat_minor": 2
}
